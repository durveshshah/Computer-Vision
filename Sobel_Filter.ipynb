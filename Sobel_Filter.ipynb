{
  "nbformat": 4,
  "nbformat_minor": 0,
  "metadata": {
    "colab": {
      "name": "Question_1.ipynb",
      "provenance": [],
      "collapsed_sections": []
    },
    "kernelspec": {
      "name": "python3",
      "display_name": "Python 3"
    },
    "language_info": {
      "name": "python"
    }
  },
  "cells": [
    {
      "cell_type": "code",
      "metadata": {
        "colab": {
          "base_uri": "https://localhost:8080/"
        },
        "id": "Jb0lC6Ac-Wt7",
        "outputId": "e771586e-a0ef-403e-8324-99e219324ba1"
      },
      "source": [
        "# Name: Durvesh Shah\n",
        "# Student Id: 1131901\n",
        "\n",
        "import numpy as np\n",
        "import cv2\n",
        "from google.colab.patches import cv2_imshow\n",
        "\n",
        "#Converting to grayscale image\n",
        "image_gray = cv2.imread('/content/plane.bmp',cv2.IMREAD_GRAYSCALE)\n",
        "\n",
        "#Using SobelFilter for 2D\n",
        "sobel = np.array([[1,0,-1],[2,0,-2],[1,0,-1]])\n",
        "\n",
        "#Converting image to numpy array\n",
        "image_gray = np.array(image_gray)\n",
        "\n",
        "#Resizing Image to 3x3 matrix to fit the size of sobel filter\n",
        "image_resize = cv2.resize(image_gray,dsize = (3,3),interpolation=cv2.INTER_CUBIC)\n",
        "\n",
        "# Multiplying and Adding the grayscale image and sobel filter\n",
        "result_1 = np.sum(np.dot(image_resize,sobel))\n",
        "\n",
        "print('L.H.S -',result_1)\n",
        "\n"
      ],
      "execution_count": null,
      "outputs": [
        {
          "output_type": "stream",
          "text": [
            "L.H.S - 0\n"
          ],
          "name": "stdout"
        }
      ]
    },
    {
      "cell_type": "code",
      "metadata": {
        "colab": {
          "base_uri": "https://localhost:8080/"
        },
        "id": "vTXdyX6TCLD0",
        "outputId": "780f5e95-cea3-4222-d144-a2289cae2bea"
      },
      "source": [
        "# Using Sobel Filter for 1D\n",
        "matrix1 = np.array([[1],[2],[1]])\n",
        "\n",
        "# Multiplying grayscale image and 1D Sobel Filter\n",
        "img_mul = np.dot(image_resize,matrix1)\n",
        "\n",
        "# Another 1D array \n",
        "matrix2 = np.array([[1,0,-1]])\n",
        "\n",
        "# Multiplying and Adding 1D array above and img_mul\n",
        "result_2 = np.sum(np.dot(img_mul,matrix2))\n",
        "\n",
        "print('R.H.S -',result_2)\n",
        "print('Hence, L.H.S = R.H.S')"
      ],
      "execution_count": null,
      "outputs": [
        {
          "output_type": "stream",
          "text": [
            "R.H.S - 0\n",
            "Hence, L.H.S = R.H.S\n"
          ],
          "name": "stdout"
        }
      ]
    }
  ]
}
